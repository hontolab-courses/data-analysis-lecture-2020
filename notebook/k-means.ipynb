{
 "cells": [
  {
   "cell_type": "markdown",
   "metadata": {},
   "source": [
    "# K-meansクラスタリング"
   ]
  },
  {
   "cell_type": "markdown",
   "metadata": {},
   "source": [
    "この演習では下記の2種類のデータを用いて，K-meansクラスタリングを体験します．\n",
    "* アヤメの個体データ\n",
    "* 人工的な2次元データ"
   ]
  },
  {
   "cell_type": "markdown",
   "metadata": {},
   "source": [
    "演習に先立って，必要なライブラリを読み込んでおきます．\n",
    "以下のコードをGoogle Colaboratoryに貼り付けて実行してください．"
   ]
  },
  {
   "cell_type": "code",
   "execution_count": null,
   "metadata": {},
   "outputs": [],
   "source": [
    "# 表形式のデータを操作するためのライブラリ\n",
    "import pandas as pd\n",
    "\n",
    "# 行列計算をおこなうためのライブラリ\n",
    "import numpy as np\n",
    "\n",
    "# 機械学習用ライブラリsklearnのKmeansクラス\n",
    "from sklearn.cluster import KMeans\n",
    "\n",
    "# グラフ描画ライブラリ\n",
    "import matplotlib.pyplot as plt\n",
    "%matplotlib inline"
   ]
  },
  {
   "cell_type": "markdown",
   "metadata": {},
   "source": [
    "---\n",
    "## 例題1: アヤメデータに対するK-meansクラスタリング"
   ]
  },
  {
   "cell_type": "markdown",
   "metadata": {},
   "source": [
    "データ分析を学習する際，例題データとしてアヤメ（英語名:Iris）データがよく用いられます．\n",
    "[アヤメ](https://ja.wikipedia.org/wiki/アヤメ)は植物の1つです．\n",
    "この演習でもアヤメデータを使ってみましょう．"
   ]
  },
  {
   "cell_type": "markdown",
   "metadata": {},
   "source": [
    "### データの準備\n",
    "以下のコードを実行して，アヤメのデータを読み込みましょう．\n",
    "下記コードを実行すると，変数`iris_df`（pandasデータフレーム）にアヤメのデータが読み込まれます．"
   ]
  },
  {
   "cell_type": "code",
   "execution_count": null,
   "metadata": {},
   "outputs": [],
   "source": [
    "from sklearn import datasets\n",
    "\n",
    "# Iris（アヤメ）の大きさに関するデータをロード\n",
    "iris = datasets.load_iris()\n",
    "iris_df = pd.DataFrame(iris.data, columns=iris.feature_names)\n",
    "iris_df['species'] = iris.target_names[iris.target]\n",
    "\n",
    "# 簡単のために，カラム名を修正しておく\n",
    "iris_df = iris_df.rename(\n",
    "    columns = {\n",
    "        'sepal length (cm)': 'sepal_length',\n",
    "        'sepal width (cm)': 'sepal_width',\n",
    "        'petal length (cm)': 'petal_length',\n",
    "        'petal width (cm)': 'petal_width'\n",
    "    }\n",
    ")"
   ]
  },
  {
   "cell_type": "markdown",
   "metadata": {},
   "source": [
    "どんなデータが入っているか，iris_dfの中身をのぞいてみましょう．"
   ]
  },
  {
   "cell_type": "code",
   "execution_count": null,
   "metadata": {},
   "outputs": [],
   "source": [
    "# ロードしたデータの中身（最初の数件）を確認\n",
    "iris_df"
   ]
  },
  {
   "cell_type": "markdown",
   "metadata": {},
   "source": [
    "このデータには，アヤメの「花弁（Petal）」と「がく（Sepal）」の大きさ，長さ，およびアヤメの品種に関する情報が入っています．1行1行がアヤメの個体に対応しています．\n",
    "\n",
    "格納されているアヤメの種類はsetosa, virginica, versicolorの3種類です．それぞれの品種について，50個ずつデータが入っています．"
   ]
  },
  {
   "cell_type": "markdown",
   "metadata": {},
   "source": [
    "\n",
    "### データの可視化"
   ]
  },
  {
   "cell_type": "markdown",
   "metadata": {},
   "source": [
    "この演習では，品種（species）の情報は無視して，花弁とがくの大きさ・長さの4種類の指標に着目します．\n",
    "つまり**4次元**のデータを扱います．\n",
    "\n",
    "私たちは普段3次元の世界で生きているので，4次元のデータをイメージすることは難しいです．ですので，まずはデータを2次元にして，データの様子を可視化してみましょう．\n",
    "\n",
    "アヤメデータから花弁の大きさ，長さのみを取り出して，XY平面に点をプロットしてみましょう．Pandasデータフレームでは，``df.x``とすると表データ``df``の列``x``のデータを抜き出すことができます．点をプロットするには``plt.scatter``関数を用います．\n",
    "\n",
    "では，下記のコードを実行してみてください．"
   ]
  },
  {
   "cell_type": "code",
   "execution_count": null,
   "metadata": {},
   "outputs": [],
   "source": [
    "plt.scatter(iris_df.sepal_length, iris_df.sepal_width)"
   ]
  },
  {
   "cell_type": "markdown",
   "metadata": {},
   "source": [
    "表示されたグラフ（散布図）を眺めてみてください．「データをグルーピングする」という観点で眺めたとき，何か特徴はつかめたでしょうか？心の目で眺めてみると，なんとなくですが，データ点が「左上」と「右下」で分かれているような気もします．"
   ]
  },
  {
   "cell_type": "markdown",
   "metadata": {},
   "source": [
    "### K-meansクラスタリングの実行"
   ]
  },
  {
   "cell_type": "markdown",
   "metadata": {},
   "source": [
    "今回のアヤメのデータには3種類の品種が混じっています．もし品種毎に性質がキレイに分かれるとすると，上記の点の集合も3グループに分かれてもよさそうです．ということで，今回はクラスタ数を**3**として，K-meansクラスタリングを実行してみましょう．\n",
    "\n",
    "K-meansクラスタリングを実行するには`sklearn`ライブラリの``KMeans``クラスを用います．"
   ]
  },
  {
   "cell_type": "markdown",
   "metadata": {},
   "source": [
    "上でアヤメデータを可視化したときは，花弁の長さと大きさの2指標に絞ってデータを眺めてみました．\n",
    "今回のK-meansクラスタリングでは，その2指標を特徴とする2次元データに対して分析をしてみましょう．\n",
    "\n",
    "完全なアヤメデータから「花弁の長さ」と「大きさ」のみに着目してデータを取り出すには以下のようにします．"
   ]
  },
  {
   "cell_type": "code",
   "execution_count": null,
   "metadata": {},
   "outputs": [],
   "source": [
    "target_features = ['sepal_length', 'sepal_width']\n",
    "iris_df[target_features]"
   ]
  },
  {
   "cell_type": "markdown",
   "metadata": {},
   "source": [
    "このデータに対してK-meansを実行してみましょう．\n",
    "\n",
    "`sklearn`ライブラリで機械学習を行う場合，以下のようなステップを踏みます：\n",
    "1. 学習モデルのクラスインスタンスを作成\n",
    "2. データを入力し学習（fitメソッド）\n",
    "3. 学習済みモデルを用いて，分析結果を得る（transformやpredictメソッド）\n",
    "\n",
    "今回は`sklearn`ライブラリの``KMeans``クラスを用います．以下のコードを実行し，クラスタリングを実行します．"
   ]
  },
  {
   "cell_type": "code",
   "execution_count": null,
   "metadata": {},
   "outputs": [],
   "source": [
    "# クラスタ数を3に指定\n",
    "model = KMeans(n_clusters=3, init='random')\n",
    "\n",
    "# クラスタリングを実行\n",
    "model.fit(iris_df[target_features])"
   ]
  },
  {
   "cell_type": "markdown",
   "metadata": {},
   "source": [
    "クラスタリングが完了しました．クラスタリング結果は`model`が保持しています．各データがどのクラスタに分類されたかを抽出するには，以下のコードを実行します．"
   ]
  },
  {
   "cell_type": "code",
   "execution_count": null,
   "metadata": {},
   "outputs": [],
   "source": [
    "# クラスタリング結果をlabelsに格納\n",
    "labels = model.labels_\n",
    "\n",
    "# 表示\n",
    "labels"
   ]
  },
  {
   "cell_type": "markdown",
   "metadata": {},
   "source": [
    "クラスタリングの結果をもとに，上で表示させた散布図にクラスタ毎に色をつけてみましょう．\n",
    "何も考えずに以下のコードを実行してみてください．"
   ]
  },
  {
   "cell_type": "code",
   "execution_count": null,
   "metadata": {},
   "outputs": [],
   "source": [
    "plt.scatter(\n",
    "    iris_df.sepal_length, iris_df.sepal_width,\n",
    "    c=labels,  # クラスタに応じて色分け\n",
    "    cmap=\"Accent\"\n",
    ")"
   ]
  },
  {
   "cell_type": "markdown",
   "metadata": {},
   "source": [
    "では，クラスタではなく**あらかじめ分かっている3種類の品種**ごとに，散布図に色づけをしてみましょう．下記のコードを実行します．クラスタリングの結果をもとに色分けした散布図と比較してみてください．"
   ]
  },
  {
   "cell_type": "code",
   "execution_count": null,
   "metadata": {},
   "outputs": [],
   "source": [
    "# 品種にIDを割り振る\n",
    "species_id = {'versicolor': 0, 'virginica': 1, 'setosa': 2}\n",
    "\n",
    "# 可視化\n",
    "plt.scatter(\n",
    "    iris_df.sepal_length, iris_df.sepal_width,\n",
    "    c=[species_id[s] for s in iris_df.species], # もともとの品種に応じて色分け\n",
    "    cmap=\"Accent\" # カラーパレット\n",
    ")"
   ]
  },
  {
   "cell_type": "markdown",
   "metadata": {},
   "source": [
    "散布図の右下で色が入り乱れています．このことから，花弁の大きさと長さだけではアヤメデータを3種類に分類することができないことが予想されます．"
   ]
  },
  {
   "cell_type": "markdown",
   "metadata": {},
   "source": [
    "少し脱線しますが，アヤメデータの各指標（特徴量）の相関関係を品種ごとに表示してみましょう．\n",
    "以下のコードを実行します．"
   ]
  },
  {
   "cell_type": "code",
   "execution_count": null,
   "metadata": {},
   "outputs": [],
   "source": [
    "pd.plotting.scatter_matrix(\n",
    "    iris_df,\n",
    "    c=[species_id[s] for s in iris_df.species], # 品種ごとに色分け\n",
    "    figsize=(10, 10), s=80, alpha=0.8, cmap=\"Accent\" # 見た目の調整\n",
    ")\n",
    "plt.show()"
   ]
  },
  {
   "cell_type": "markdown",
   "metadata": {},
   "source": [
    "図を眺めてみると，petal_length，petal_widthの特徴も種ごとにある程度のまとまりがあるようにも見えます．そうならば，sepal_length，sepal_widthの2種類だけでなく，他のすべての特徴をつかったほうがもっと高精度にグルーピングができそうです．"
   ]
  },
  {
   "cell_type": "markdown",
   "metadata": {},
   "source": [
    "では，先ほどのアヤメデータのK-meansクラスタリングを，2次元ではなく4次元データにして再度実行してみましょう．\n",
    "以下のコードを実行します．"
   ]
  },
  {
   "cell_type": "code",
   "execution_count": null,
   "metadata": {},
   "outputs": [],
   "source": [
    "# 注目する特徴量\n",
    "target_features = ['sepal_length', 'sepal_width',\n",
    "                   'petal_length', 'petal_width' # 追加項目\n",
    "                  ]\n",
    "\n",
    "# クラスタリングを実行\n",
    "model = KMeans(n_clusters=3, init='random')\n",
    "model.fit(iris_df[target_features])\n",
    "\n",
    "labels = model.labels_"
   ]
  },
  {
   "cell_type": "markdown",
   "metadata": {},
   "source": [
    "4次元データのクラスタリング結果を使って，散布図を色分けしてみましょう．\n",
    "以下のコードを実行します．"
   ]
  },
  {
   "cell_type": "code",
   "execution_count": null,
   "metadata": {},
   "outputs": [],
   "source": [
    "plt.scatter(\n",
    "    iris_df.sepal_length, iris_df.sepal_width,\n",
    "    c=labels,  # クラスタに応じて色分け\n",
    "    cmap=\"Accent\"\n",
    ")"
   ]
  },
  {
   "cell_type": "markdown",
   "metadata": {},
   "source": [
    "どうでしょうか？3つの品種がより重なりなく分割されたような気がします．"
   ]
  },
  {
   "cell_type": "markdown",
   "metadata": {},
   "source": [
    "---"
   ]
  },
  {
   "cell_type": "markdown",
   "metadata": {},
   "source": [
    "## 例題2: 人工データに対するK-meansクラスタリング"
   ]
  },
  {
   "cell_type": "markdown",
   "metadata": {},
   "source": [
    "K-meansクラスタリングの効果，特徴をもう少し体感するために，別のデータを分析してみましょう．\n",
    "\n",
    "次に用いるデータは人工的に作られた5000個の2次元データです．データに特に意味はありません．\n",
    "用いるデータは[University of Eastern Finlandの計算学部が公開しているデータセット](http://cs.joensuu.fi/sipu/datasets/)です．\n",
    "\n",
    "以下のコードを実行して，``s1_df``変数にデータを読み込んでください．"
   ]
  },
  {
   "cell_type": "code",
   "execution_count": null,
   "metadata": {},
   "outputs": [],
   "source": [
    "url = \"http://drive.hontolab.org/ymc-lecture2020/data/artificial_data.tsv\"\n",
    "s1_df = pd.read_table(url, sep=\"\\t\")\n",
    "\n",
    "# 最初の10件のデータを表示\n",
    "s1_df.head(10)"
   ]
  },
  {
   "cell_type": "markdown",
   "metadata": {},
   "source": [
    "データの傾向を見るために，XY平面にデータをプロットしてみましょう．\n",
    "下記のコードを実行します．"
   ]
  },
  {
   "cell_type": "code",
   "execution_count": null,
   "metadata": {},
   "outputs": [],
   "source": [
    "plt.scatter(s1_df.x, s1_df.y, alpha=0.3)\n",
    "plt.show()"
   ]
  },
  {
   "cell_type": "markdown",
   "metadata": {},
   "source": [
    "今回のデータの特徴は分かりやすいですね．目視レベルでは**15個**のクラスタに分かれているように見えます．\n",
    "\n",
    "では，K-meansクラスタリングによって，目論見どおりにデータを15個のクラスタに分けられるか試してみましょう．\n",
    "以下のコードを実行します．"
   ]
  },
  {
   "cell_type": "code",
   "execution_count": null,
   "metadata": {},
   "outputs": [],
   "source": [
    "# クラスタリングを実行\n",
    "model = KMeans(n_clusters=15, init='random')\n",
    "model.fit(s1_df)\n",
    "\n",
    "# 結果を格納\n",
    "labels = model.labels_"
   ]
  },
  {
   "cell_type": "markdown",
   "metadata": {},
   "source": [
    "アヤメのデータと同様に，クラスタリングの結果を踏まえて，散布図を色分けしてみましょう．\n",
    "今回はクラスタの数が15と多いので，下記のコードを実行して色分けのための準備を行います．"
   ]
  },
  {
   "cell_type": "markdown",
   "metadata": {},
   "source": [
    "下記コードを実行して，散布図を15のグループごとに色分けします．\n",
    "K-meansクラスタリングは，目論見どおりにデータを分割できていたでしょうか？"
   ]
  },
  {
   "cell_type": "code",
   "execution_count": null,
   "metadata": {},
   "outputs": [],
   "source": [
    "plt.scatter(\n",
    "    s1_df.x, s1_df.y,\n",
    "    c=labels,\n",
    "    alpha=0.4, # 透明度\n",
    "    s=40, # マーカーのサイズ\n",
    "    cmap=\"tab20_r\" # カラーパレット（20色対応）\n",
    ")"
   ]
  }
 ],
 "metadata": {
  "kernelspec": {
   "display_name": "Python 3.8.2 64-bit ('.pyenv': pyenv)",
   "language": "python",
   "name": "python38264bitpyenvpyenv597899faeeba42a1891b880d106ce7e7"
  },
  "language_info": {
   "codemirror_mode": {
    "name": "ipython",
    "version": 3
   },
   "file_extension": ".py",
   "mimetype": "text/x-python",
   "name": "python",
   "nbconvert_exporter": "python",
   "pygments_lexer": "ipython3",
   "version": "3.8.2"
  }
 },
 "nbformat": 4,
 "nbformat_minor": 4
}
