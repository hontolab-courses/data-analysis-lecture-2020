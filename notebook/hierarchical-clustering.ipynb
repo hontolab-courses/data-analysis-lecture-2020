{
 "cells": [
  {
   "cell_type": "markdown",
   "metadata": {},
   "source": [
    "# 階層的クラスタリング"
   ]
  },
  {
   "cell_type": "markdown",
   "metadata": {},
   "source": [
    "この演習では下記のデータを用いて，階層的クラスタリングを体験します．\n",
    "* とある購買データ\n",
    "* 2018年度プロ野球打者成績データ"
   ]
  },
  {
   "cell_type": "markdown",
   "metadata": {},
   "source": [
    "演習に必要な以下のライブラリを読み込んでおきます．"
   ]
  },
  {
   "cell_type": "code",
   "execution_count": null,
   "metadata": {},
   "outputs": [],
   "source": [
    "# 表形式のデータを操作するためのライブラリ\n",
    "import pandas as pd\n",
    "\n",
    "# 行列計算をおこなうためのライブラリ\n",
    "import numpy as np\n",
    "\n",
    "# 距離行列の計算のためのライブラリ\n",
    "import scipy.spatial.distance as distance\n",
    "\n",
    "# 階層的クラスタリング用のライブラリ\n",
    "from scipy.cluster.hierarchy import dendrogram, linkage, cut_tree\n",
    "\n",
    "# グラフ描画ライブラリ\n",
    "import matplotlib.pyplot as plt\n",
    "import seaborn as sns;\n",
    "sns.set(style='ticks')\n",
    "%matplotlib inline"
   ]
  },
  {
   "cell_type": "markdown",
   "metadata": {},
   "source": [
    "また，この演習では日本語を含むグラフを生成するため，問題が生じないよう以下のおまじないコードを実行しておいてください．"
   ]
  },
  {
   "cell_type": "code",
   "execution_count": null,
   "metadata": {},
   "outputs": [],
   "source": [
    "!pip install japanize-matplotlib\n",
    "import japanize_matplotlib "
   ]
  },
  {
   "cell_type": "markdown",
   "metadata": {},
   "source": [
    "---\n",
    "## 例題1: とある購買データ"
   ]
  },
  {
   "cell_type": "markdown",
   "metadata": {},
   "source": [
    "あるeコマースサイトにおける購買データを用いて階層的クラスタリングを実行してみましょう．\n",
    "``data``フォルダにある``e-commerce.txt``ファイルは，\n",
    "* 書籍\n",
    "* 衣服\n",
    "* 化粧品\n",
    "* 食料品\n",
    "* 飲料\n",
    "\n",
    "を1年間で何回購入したかについて，100名の顧客のデータが記録されています．\n",
    "以下のコードを実行して，データを読み込みましょう．"
   ]
  },
  {
   "cell_type": "code",
   "execution_count": null,
   "metadata": {},
   "outputs": [],
   "source": [
    "url = \"http://drive.hontolab.org/ymc-lecture2020/data/e_commerce.txt\"\n",
    "e_commerce_df = pd.read_table(url, header=0, sep=\" \")"
   ]
  },
  {
   "cell_type": "markdown",
   "metadata": {},
   "source": [
    "### ベクトルデータ間の距離の計算"
   ]
  },
  {
   "cell_type": "markdown",
   "metadata": {},
   "source": [
    "Pythonで階層的クラスタリングを実行するには`scipy`ライブラリの``linkage``関数を用いますが，``linkage``関数は入力（第1引数）として **ベクトル間の距離情報（を格納した行列データ）** を求めます．\n",
    "ここでベクトルとは，n個の特徴量からなるデータを意味します．今回の``e_commerce.txt``ファイルでは，1行1行が1名の顧客情報を表すベクトルデータとなります．\n",
    "\n",
    "正攻法でやるならば，100行ある``e_commerce_df``の顧客データのすべての組み合わせを比較して，各顧客ベクトルの距離を計算する必要があります．\n",
    "しかし，`scipy`ライブラリはそれを簡単に実行してくれる便利な関数``distance.pdist``を提供しています．\n",
    "\n",
    "以下のコードを実行してベクトル間の距離を計算してみましょう．"
   ]
  },
  {
   "cell_type": "code",
   "execution_count": null,
   "metadata": {},
   "outputs": [],
   "source": [
    "dist_matrix = distance.pdist(e_commerce_df, metric='euclidean')\n",
    "\n",
    "# 表示したい場合は以下のコードを#記号を削除して実行\n",
    "#pd.DataFrame(distance.squareform(dist_matrix))"
   ]
  },
  {
   "cell_type": "markdown",
   "metadata": {},
   "source": [
    "100行あるベクトルデータのすべての組み合わせについて距離を計算した結果（距離行列）が``dist_matrix``として得られました．\n",
    "この距離行列を使って階層的クラスタリングを実行してみましょう．"
   ]
  },
  {
   "cell_type": "markdown",
   "metadata": {},
   "source": [
    "### 階層的クラスタリングの実行\n",
    "\n",
    "講義でも述べたように，階層的クラスタリングではクラスタの作り方の基準として\n",
    "* 最長距離法（complete linkage method）\n",
    "* 最短距離法（single linkage method）\n",
    "* セントロイド法（centroid method）\n",
    "* ウォード法（Ward's method）\n",
    "\n",
    "などがあります．今回はウォード法を使ってみましょう．以下のコードを実行してみてください．"
   ]
  },
  {
   "cell_type": "code",
   "execution_count": null,
   "metadata": {},
   "outputs": [],
   "source": [
    "e_commerce_result = linkage(dist_matrix, method=\"ward\")"
   ]
  },
  {
   "cell_type": "markdown",
   "metadata": {},
   "source": [
    "階層的クラスタリングの結果が変数``e_commerce_result``に格納されました．\n",
    "\n",
    "階層的クラスタリングにおいて，各要素（ベクトル）が徐々に併合されていく結果を示したものを**デンドログラム**と呼びます．デンドログラムを表示させてみましょう．以下のコードを実行してみてください．\n"
   ]
  },
  {
   "cell_type": "code",
   "execution_count": null,
   "metadata": {},
   "outputs": [],
   "source": [
    "# 図の大きさの設定\n",
    "plt.figure(figsize=(10, 14))\n",
    "\n",
    "# 図の表示\n",
    "fig = dendrogram(e_commerce_result,\n",
    "                 leaf_font_size=8, orientation='left')\n",
    "plt.show()"
   ]
  },
  {
   "cell_type": "markdown",
   "metadata": {},
   "source": [
    "デンドログラムが表示されると，階層的クラスタリングを実行したという気分になりますね！\n",
    "\n",
    "今回は顧客の一人一人について私たちは特に知識がないため，この図を眺めてもよく分かりません．そこで，適当な深さでデンドログラムの枝を切って，各要素をクラスタに分けてみましょう．つまりK-meansクラスタリングと同じようなことをします．その上で，\n",
    "各クラスタに入っている要素がどのような性質を持っているかを分析していましょう．\n",
    "\n",
    "デンドログラムの枝を切り，指定したクラスタ数に分割するには``cutree``関数を用います．``k``に数値を指定すると，デンドログラムをその数のクラスタに分割することができます．\n"
   ]
  },
  {
   "cell_type": "code",
   "execution_count": null,
   "metadata": {},
   "outputs": [],
   "source": [
    "# 4つのクラスタに分割\n",
    "e_commerce_cluster = cut_tree(e_commerce_result, n_clusters=4)\n",
    "\n",
    "# 最初の10件のみ表示\n",
    "e_commerce_cluster[:10, 0]"
   ]
  },
  {
   "cell_type": "markdown",
   "metadata": {},
   "source": [
    "変数``e_commerce_cluster``に100名の顧客のクラスタ割り当て番号が格納されました．"
   ]
  },
  {
   "cell_type": "markdown",
   "metadata": {},
   "source": [
    "### クラスタの分析"
   ]
  },
  {
   "cell_type": "markdown",
   "metadata": {},
   "source": [
    "さて，クラスタリングの結果は変数``e_commerce_cluster``に得られましたが，各クラスタがどのような購買傾向を持っているかを分析するには，``e_commerce_df``データと照らし合わせる必要があります．\n",
    "そこで，以下のコードを実行して，``e_commerce_cluster``と``e_commerce_df``を結合してみましょう．"
   ]
  },
  {
   "cell_type": "code",
   "execution_count": null,
   "metadata": {},
   "outputs": [],
   "source": [
    "# 結合\n",
    "new_e_commerce_df = e_commerce_df.assign(\n",
    "    cluster_id = e_commerce_cluster[:, 0]\n",
    ")\n",
    "\n",
    "# 先頭の数件のみ表示\n",
    "new_e_commerce_df.head()"
   ]
  },
  {
   "cell_type": "markdown",
   "metadata": {},
   "source": [
    "各顧客データがどのクラスタに分類するかのデータが得られました．このデータを用いて，クラスタ毎に書籍の平均購買数，衣類の平均購買数などを調べてみましょう．\n",
    "\n",
    "今回の分析のように，クラスタ毎に何らかの情報をまとめて計算することを**集約演算**と呼びます．\n",
    "やや複雑に見えますが，以下のコードを実行してみてください．"
   ]
  },
  {
   "cell_type": "code",
   "execution_count": null,
   "metadata": {},
   "outputs": [],
   "source": [
    "new_e_commerce_df.groupby(\n",
    "    'cluster_id' # cluster_idでデータをまとめる\n",
    ").agg(\n",
    "    'mean' # まとまり毎に平均値を算出\n",
    ")"
   ]
  },
  {
   "cell_type": "markdown",
   "metadata": {},
   "source": [
    "クラスタ毎に書籍，衣類，化粧品，食料品，飲料の平均購買数が求まりました．クラスタ毎に少しずつ特徴が異なることが確認できます．"
   ]
  },
  {
   "cell_type": "markdown",
   "metadata": {},
   "source": [
    "---\n",
    "## 例題2: 2018年度プロ野球打者成績データ"
   ]
  },
  {
   "cell_type": "markdown",
   "metadata": {},
   "source": [
    "例題1のデータは見ず知らずの顧客のデータであったため，クラスタリングをしても予想される結果がイメージしにくかったと思います．そこで次は実データを分析してみましょう．\n",
    "\n",
    "下記コマンドを実行して，``baseball_stats_2018.tsv``ファイルを読み込みます．\n",
    "このデータは2018年度のプロ野球において，規定打席に達した打者の成績（例：「打率」「出塁率」「長打率」）を記録したものです．"
   ]
  },
  {
   "cell_type": "code",
   "execution_count": null,
   "metadata": {},
   "outputs": [],
   "source": [
    "# データの読み込み\n",
    "url = \"http://drive.hontolab.org/ymc-lecture2020/data/baseball_stats_2018.tsv\"\n",
    "stats_df = pd.read_table(url, header=0, sep=\"\\t\", index_col='選手名')\n",
    "\n",
    "# 最初の数件を表示\n",
    "stats_df.head()"
   ]
  },
  {
   "cell_type": "markdown",
   "metadata": {},
   "source": [
    "このデータに対して，階層的クラスタリングを実行して傾向が似通った選手をグルーピングしてみましょう．\n",
    "\n",
    "データをご覧になると分かるように，``stats_df``には「打率」「安打数」「ホームラン数」といった成績情報以外に「チーム名」（とデータのラベルとして「選手名」）が含まれています．\n",
    "今回の分析では野手成績に関係する「打率」〜「長打率」だけに焦点をしぼって分析をします．\n",
    "\n",
    "``stats_df``では「打率」〜「長打率」は1〜17列目（0列スタート）に格納されています．\n",
    "``stats_df``から1〜17列目だけを抜き出すには，下記のようなコードを書きます．"
   ]
  },
  {
   "cell_type": "code",
   "execution_count": null,
   "metadata": {},
   "outputs": [],
   "source": [
    "stats_df.iloc[:, 1:17]"
   ]
  },
  {
   "cell_type": "markdown",
   "metadata": {},
   "source": [
    "この方法を使って，選手データをクラスタリングしてみましょう．\n",
    "\n",
    "例題1と同様，今回の分析では階層的クラスタリングのタイプとして**ウォード法**を用いることにします．\n",
    "下記のコードを実行すると，階層的クラスタリングを行い，その結果をデンドログラムとして表示します．"
   ]
  },
  {
   "cell_type": "code",
   "execution_count": null,
   "metadata": {},
   "outputs": [],
   "source": [
    "# 距離行列の計算\n",
    "stats_dist_matrix = distance.pdist(stats_df.iloc[:, 1:17], metric='euclidean')\n",
    "\n",
    "# 階層的クラスタリングの実行\n",
    "stats_result = linkage(stats_dist_matrix, method=\"ward\")\n",
    "\n",
    "# デンドログラムの表示\n",
    "plt.figure(figsize=(10, 10))\n",
    "fig = dendrogram(stats_result, labels=stats_df.index, \n",
    "                leaf_font_size=9, orientation='left')\n",
    "plt.show()"
   ]
  },
  {
   "cell_type": "markdown",
   "metadata": {},
   "source": [
    "デンドログラムが表示されました．プロ野球に関心のある方からご覧になって，このクラスタリング結果は妥当なものでしょうか？\n",
    "\n",
    "例題1と同様に，各クラスタの平均的なスコアを計算してみましょう．\n",
    "図を見ると，今回の結果から，データはざっくり見ると6クラスタに分かれそうです．\n",
    "とりあえず6クラスタに分けたときに，各クラスタの平均スコアがどうなっているかを分析してみましょう．"
   ]
  },
  {
   "cell_type": "code",
   "execution_count": null,
   "metadata": {},
   "outputs": [],
   "source": [
    "# 6つのクラスタに分割\n",
    "stats_cluster = cut_tree(stats_result, n_clusters=6)\n",
    "\n",
    "# クラスタ情報と選手データを結合\n",
    "new_stats_df = stats_df.assign(\n",
    "    cluster_id = stats_cluster[:, 0]\n",
    ")\n",
    "\n",
    "# 各クラスタの平均スコアを計算\n",
    "new_stats_df.groupby(\n",
    "    'cluster_id' # cluster_idでデータをまとめる\n",
    ").agg(\n",
    "    'mean' # まとまり毎に平均値を算出\n",
    ")"
   ]
  },
  {
   "cell_type": "markdown",
   "metadata": {},
   "source": [
    "各クラスタの特徴は以下のような感じでしょうか：\n",
    "* 第1クラスタ: 打率も高く，ホームランも盗塁もできるユーティリティプレーヤー\n",
    "* 第2クラスタ: ホームランヒッター\n",
    "* 第3クラスタ: 打率もホームランもそこそこ高い6番バッタータイプ\n",
    "* 第4クラスタ: これといって特徴はない\n",
    "* 第5クラスタ: 出塁率が高く盗塁も多く足が速い，リードオフ・マンタイプ\n",
    "* 第6クラスタ: 打率は高くないが，堅実に犠打でランナーを進める，2番バッタータイプ"
   ]
  }
 ],
 "metadata": {
  "kernelspec": {
   "display_name": "Python 3.8.2 64-bit ('.pyenv': pyenv)",
   "language": "python",
   "name": "python38264bitpyenvpyenv597899faeeba42a1891b880d106ce7e7"
  },
  "language_info": {
   "codemirror_mode": {
    "name": "ipython",
    "version": 3
   },
   "file_extension": ".py",
   "mimetype": "text/x-python",
   "name": "python",
   "nbconvert_exporter": "python",
   "pygments_lexer": "ipython3",
   "version": "3.8.2"
  }
 },
 "nbformat": 4,
 "nbformat_minor": 4
}
